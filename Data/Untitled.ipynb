{
 "cells": [
  {
   "cell_type": "code",
   "execution_count": 43,
   "id": "9f267870-c9c0-4526-8b1f-543cda30e138",
   "metadata": {},
   "outputs": [],
   "source": [
    "import tensorflow as tf\n",
    "from tensorflow.keras.layers import Input, Dense\n",
    "from tensorflow.keras.models import Model\n",
    "import csv\n",
    "import pandas as pd\n",
    "from sklearn.preprocessing import MinMaxScaler\n",
    "from tensorflow.keras.optimizers import Adam"
   ]
  },
  {
   "cell_type": "code",
   "execution_count": 41,
   "id": "960298cb-cfe9-4ec8-9193-ec2e0c727f12",
   "metadata": {},
   "outputs": [],
   "source": [
    "data = pd.read_csv('ackley.csv')\n",
    "scaler = MinMaxScaler()\n",
    "scaled_data = scaler.fit_transform(data.drop('target', axis=1))\n"
   ]
  },
  {
   "cell_type": "code",
   "execution_count": 27,
   "id": "c6dd8058-98ef-41a8-a14f-21f465a8b900",
   "metadata": {},
   "outputs": [],
   "source": [
    "# Input Layer\n",
    "input_layer = Input(shape=(scaled_data.shape[1],))\n",
    "\n",
    "# Encoder Layers\n",
    "encoded = Dense(128, activation='relu')(input_layer)\n",
    "encoded = Dense(64, activation='relu')(encoded)\n",
    "encoded = Dense(encoding_dim, activation='relu')(encoded)\n",
    "\n",
    "# Decoder Layers\n",
    "decoded = Dense(64, activation='relu')(encoded)\n",
    "decoded = Dense(128, activation='relu')(decoded)\n",
    "decoded = Dense(scaled_data.shape[1], activation='linear')(decoded)  # Output layer\n",
    "\n",
    "# Autoencoder Model\n",
    "autoencoder = Model(input_layer, decoded)\n",
    "\n",
    "# Compile the Model\n",
    "autoencoder.compile(optimizer=Adam(learning_rate=0.001), loss='mean_squared_error')"
   ]
  },
  {
   "cell_type": "code",
   "execution_count": 28,
   "id": "ef7a63e8-dfeb-4b79-b2dd-1e2a07671b76",
   "metadata": {},
   "outputs": [],
   "source": [
    "# Step 3: Feature Extraction for FEA\n",
    "# Get the encoder part of the autoencoder\n",
    "encoder = Model(input_layer, encoded)\n",
    "# Extract features"
   ]
  },
  {
   "cell_type": "code",
   "execution_count": 29,
   "id": "73313000-24bd-4095-b86c-17f50b1b8683",
   "metadata": {},
   "outputs": [
    {
     "name": "stdout",
     "output_type": "stream",
     "text": [
      "313/313 [==============================] - 0s 606us/step\n"
     ]
    }
   ],
   "source": [
    "# Extract features\n",
    "encoded_features = encoder.predict(X_std)"
   ]
  },
  {
   "cell_type": "code",
   "execution_count": 31,
   "id": "58f9acd5-3b7e-4831-a077-985aa48850be",
   "metadata": {},
   "outputs": [
    {
     "data": {
      "text/plain": [
       "(10000, 10)"
      ]
     },
     "execution_count": 31,
     "metadata": {},
     "output_type": "execute_result"
    }
   ],
   "source": [
    "encoded_features.shape"
   ]
  },
  {
   "cell_type": "code",
   "execution_count": 32,
   "id": "60ac224e-4786-465f-a942-01e865ec8af9",
   "metadata": {},
   "outputs": [
    {
     "data": {
      "text/plain": [
       "array([[1.191965  , 0.        , 0.        , 0.        , 0.92461956,\n",
       "        0.45244217, 0.        , 0.75060993, 0.86958885, 0.01886644],\n",
       "       [1.1860876 , 0.        , 0.        , 0.        , 0.60664827,\n",
       "        0.58069   , 0.        , 0.58857936, 0.7272907 , 0.        ],\n",
       "       [0.5413795 , 0.        , 0.        , 0.        , 0.8673637 ,\n",
       "        0.38909882, 0.        , 0.46588174, 1.0173087 , 0.        ],\n",
       "       [0.42383802, 0.        , 0.        , 0.        , 0.6799672 ,\n",
       "        0.34040743, 0.        , 0.14067602, 1.0070308 , 0.07045963],\n",
       "       [0.8912054 , 0.        , 0.        , 0.        , 0.99327487,\n",
       "        0.44810843, 0.        , 0.8600769 , 0.7101662 , 0.        ]],\n",
       "      dtype=float32)"
      ]
     },
     "execution_count": 32,
     "metadata": {},
     "output_type": "execute_result"
    }
   ],
   "source": [
    "encoded_features[:5]"
   ]
  },
  {
   "cell_type": "code",
   "execution_count": null,
   "id": "bea01ee0-ce40-4dc5-a61b-346d30b89780",
   "metadata": {},
   "outputs": [],
   "source": []
  }
 ],
 "metadata": {
  "kernelspec": {
   "display_name": "Python 3 (ipykernel)",
   "language": "python",
   "name": "python3"
  },
  "language_info": {
   "codemirror_mode": {
    "name": "ipython",
    "version": 3
   },
   "file_extension": ".py",
   "mimetype": "text/x-python",
   "name": "python",
   "nbconvert_exporter": "python",
   "pygments_lexer": "ipython3",
   "version": "3.11.5"
  }
 },
 "nbformat": 4,
 "nbformat_minor": 5
}
